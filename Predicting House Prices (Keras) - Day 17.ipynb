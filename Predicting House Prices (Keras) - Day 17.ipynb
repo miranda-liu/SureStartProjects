{
 "cells": [
  {
   "cell_type": "code",
   "execution_count": 1,
   "metadata": {},
   "outputs": [],
   "source": [
    "# Link: https://hackernoon.com/build-your-first-neural-network-to-predict-house-prices-with-keras-3fb0839680f4"
   ]
  },
  {
   "cell_type": "markdown",
   "metadata": {},
   "source": [
    "# Processing data\n",
    "#### 1. read in the CSV and convert to errays\n",
    "#### 2. split dataset into input features and the label\n",
    "#### 3. scale the data so that input features have similar orders of magnitude\n",
    "#### 4. split dataset into training set, validation set, and test set"
   ]
  },
  {
   "cell_type": "code",
   "execution_count": 2,
   "metadata": {},
   "outputs": [
    {
     "name": "stdout",
     "output_type": "stream",
     "text": [
      "(1022, 10) (219, 10) (219, 10) (1022,) (219,) (219,)\n"
     ]
    }
   ],
   "source": [
    "import pandas as pd\n",
    "\n",
    "# read in the dataset's file\n",
    "df = pd.read_csv('housepricedata.csv')\n",
    "\n",
    "# input features (1st 10 columns): lot areas, overall quality, overall condition, total basement area, # of full bathrooms, # of half bathrooms, # of bedrooms above ground, total # of rooms above ground, # of fireplaces, garage area\n",
    "# the feature being predicted is the last column: above median price (1 = yes, 0 = no)\n",
    "\n",
    "# convert the data into arrays so that it can be processed\n",
    "dataset = df.values\n",
    "\n",
    "# split the dataset into input features (X) and the feature being predicted (Y)\n",
    "    # X: assign 1st 10 columns of the array to X\n",
    "    # Y: assign last column of array to Y\n",
    "X = dataset[:,0:10] # everything before the comma = rows of the array, everything after comma = columns of the arrays\n",
    "    # because you don't want to split the rows, putting : before the comma means \"take all the rows in the dataset and put it in X\"\n",
    "    # then to get the first 10 columns, the 0:10 after the comma means take columns 0-9 and put it in X\n",
    "Y = dataset[:,10]\n",
    "\n",
    "# make sure scale of input features (X) are similar\n",
    "    # lot area --> thousands, overall quality --> 1-10, fireplaces --> 0-2\n",
    "from sklearn import preprocessing\n",
    "min_max_scaler = preprocessing.MinMaxScaler() # min_max scaler scales the dataset so all input features are between 0-1 (inclusive)\n",
    "X_scale = min_max_scaler.fit_transform(X) # scaled dataset is in the array X_scale\n",
    "\n",
    "# split dataset into training set, validation set, and test set\n",
    "from sklearn.model_selection import train_test_split\n",
    "X_train, X_val_and_test, Y_train, Y_val_and_test = train_test_split(X_scale, Y, test_size=0.3)\n",
    "    # val_and_test size will be 30% of overall dataset\n",
    "    # store split data into first 4 variables on the left\n",
    "    # problem: only split dataset into 2\n",
    "X_val, X_test, Y_val, Y_test = train_test_split(X_val_and_test, Y_val_and_test, test_size=0.5)\n",
    "    # splits the val_and_test size equally to validation and test sets\n",
    "\n",
    "# six variables representing the dataset\n",
    "    # X_train (10 input features, 70% of full dataset)\n",
    "    # X_val (10 input features, 15% of full dataset)\n",
    "    # X_test (10 input features, 15% of full dataset)\n",
    "    # Y_train (1 label, 70% of full dataset)\n",
    "    # Y_val (1 label, 15% of full dataset)\n",
    "    # Y_test (1 label, 15% of full dataset)\n",
    "\n",
    "# to see shapes of the arrays:\n",
    "print(X_train.shape, X_val.shape, X_test.shape, Y_train.shape, Y_val.shape, Y_test.shape)\n",
    "    # training set has 1022 data points, validation and test sets only have 219 each\n",
    "    # X variables have 10 input features, Y only has 1 feature to predict"
   ]
  },
  {
   "cell_type": "markdown",
   "metadata": {},
   "source": [
    "# Building and training the neural network\n",
    "#### 1. specify the architecture\n",
    "#### 2. find the best numbers from the data to fill it in"
   ]
  },
  {
   "cell_type": "code",
   "execution_count": 3,
   "metadata": {},
   "outputs": [],
   "source": [
    "# setting up the architecture\n",
    "    # Hidden layer 1: 32 neurons, ReLU activation\n",
    "    # Hidden layer 2: 32 neurons, ReLU activation\n",
    "    # Output layer: 1 neuron, Sigmoid activation\n",
    "\n",
    "from tensorflow.keras.models import Sequential\n",
    "from tensorflow.keras.layers import Dense\n",
    "model = Sequential([\n",
    "    Dense(32, activation='relu', input_shape=(10,)), # 1st layer = dense (fully connected) layer with 32 neurons, ReLU activation, and input shape of 10 (10 input features)\n",
    "    Dense(32, activation='relu'), # 2nd layer = dense layer with 32 neurons, ReLU activation, no input shape needs to be defined bc Keras infers it from the output of the first layer\n",
    "    Dense(1, activation='sigmoid'), # 3rd layer = dense layer with 1 neuron, sigmoid activation\n",
    "])\n",
    "\n",
    "# filling in the best numbers\n",
    "    # deterimine the optimization algorithm, loss function, other metrics to track\n",
    "model.compile(optimizer='sgd', # stochastic gradient descent\n",
    "              loss='binary_crossentropy', # loss function for outputs that are either 0 or 1\n",
    "              metrics=['accuracy'])"
   ]
  },
  {
   "cell_type": "code",
   "execution_count": 4,
   "metadata": {},
   "outputs": [
    {
     "name": "stdout",
     "output_type": "stream",
     "text": [
      "Epoch 1/100\n",
      "32/32 [==============================] - 2s 41ms/step - loss: 0.7045 - accuracy: 0.4450 - val_loss: 0.6999 - val_accuracy: 0.3790\n",
      "Epoch 2/100\n",
      "32/32 [==============================] - 0s 3ms/step - loss: 0.7001 - accuracy: 0.2977 - val_loss: 0.6962 - val_accuracy: 0.3790\n",
      "Epoch 3/100\n",
      "32/32 [==============================] - 0s 3ms/step - loss: 0.6951 - accuracy: 0.4522 - val_loss: 0.6931 - val_accuracy: 0.4840\n",
      "Epoch 4/100\n",
      "32/32 [==============================] - 0s 3ms/step - loss: 0.6916 - accuracy: 0.5142 - val_loss: 0.6904 - val_accuracy: 0.4840\n",
      "Epoch 5/100\n",
      "32/32 [==============================] - 0s 3ms/step - loss: 0.6873 - accuracy: 0.5286 - val_loss: 0.6878 - val_accuracy: 0.4886\n",
      "Epoch 6/100\n",
      "32/32 [==============================] - 0s 3ms/step - loss: 0.6856 - accuracy: 0.5019 - val_loss: 0.6852 - val_accuracy: 0.4932\n",
      "Epoch 7/100\n",
      "32/32 [==============================] - 0s 3ms/step - loss: 0.6830 - accuracy: 0.5097 - val_loss: 0.6825 - val_accuracy: 0.4932\n",
      "Epoch 8/100\n",
      "32/32 [==============================] - 0s 3ms/step - loss: 0.6799 - accuracy: 0.5095 - val_loss: 0.6797 - val_accuracy: 0.4932\n",
      "Epoch 9/100\n",
      "32/32 [==============================] - 0s 3ms/step - loss: 0.6780 - accuracy: 0.5208 - val_loss: 0.6771 - val_accuracy: 0.4932\n",
      "Epoch 10/100\n",
      "32/32 [==============================] - 0s 3ms/step - loss: 0.6766 - accuracy: 0.4955 - val_loss: 0.6747 - val_accuracy: 0.4932\n",
      "Epoch 11/100\n",
      "32/32 [==============================] - 0s 3ms/step - loss: 0.6744 - accuracy: 0.4936 - val_loss: 0.6724 - val_accuracy: 0.5023\n",
      "Epoch 12/100\n",
      "32/32 [==============================] - 0s 3ms/step - loss: 0.6725 - accuracy: 0.5040 - val_loss: 0.6701 - val_accuracy: 0.5068\n",
      "Epoch 13/100\n",
      "32/32 [==============================] - 0s 3ms/step - loss: 0.6672 - accuracy: 0.5273 - val_loss: 0.6678 - val_accuracy: 0.5388\n",
      "Epoch 14/100\n",
      "32/32 [==============================] - 0s 3ms/step - loss: 0.6636 - accuracy: 0.5554 - val_loss: 0.6654 - val_accuracy: 0.5616\n",
      "Epoch 15/100\n",
      "32/32 [==============================] - 0s 3ms/step - loss: 0.6644 - accuracy: 0.5723 - val_loss: 0.6629 - val_accuracy: 0.5753\n",
      "Epoch 16/100\n",
      "32/32 [==============================] - 0s 3ms/step - loss: 0.6615 - accuracy: 0.6018 - val_loss: 0.6603 - val_accuracy: 0.5936\n",
      "Epoch 17/100\n",
      "32/32 [==============================] - 0s 3ms/step - loss: 0.6544 - accuracy: 0.6308 - val_loss: 0.6576 - val_accuracy: 0.6027\n",
      "Epoch 18/100\n",
      "32/32 [==============================] - 0s 3ms/step - loss: 0.6527 - accuracy: 0.6350 - val_loss: 0.6548 - val_accuracy: 0.6393\n",
      "Epoch 19/100\n",
      "32/32 [==============================] - 0s 3ms/step - loss: 0.6488 - accuracy: 0.6629 - val_loss: 0.6518 - val_accuracy: 0.6575\n",
      "Epoch 20/100\n",
      "32/32 [==============================] - 0s 3ms/step - loss: 0.6426 - accuracy: 0.6862 - val_loss: 0.6486 - val_accuracy: 0.6804\n",
      "Epoch 21/100\n",
      "32/32 [==============================] - 0s 3ms/step - loss: 0.6422 - accuracy: 0.7272 - val_loss: 0.6452 - val_accuracy: 0.6895\n",
      "Epoch 22/100\n",
      "32/32 [==============================] - 0s 3ms/step - loss: 0.6414 - accuracy: 0.7096 - val_loss: 0.6417 - val_accuracy: 0.7078\n",
      "Epoch 23/100\n",
      "32/32 [==============================] - 0s 3ms/step - loss: 0.6388 - accuracy: 0.7314 - val_loss: 0.6379 - val_accuracy: 0.7306\n",
      "Epoch 24/100\n",
      "32/32 [==============================] - 0s 3ms/step - loss: 0.6304 - accuracy: 0.7398 - val_loss: 0.6339 - val_accuracy: 0.7352\n",
      "Epoch 25/100\n",
      "32/32 [==============================] - 0s 3ms/step - loss: 0.6276 - accuracy: 0.7405 - val_loss: 0.6296 - val_accuracy: 0.7352\n",
      "Epoch 26/100\n",
      "32/32 [==============================] - 0s 3ms/step - loss: 0.6224 - accuracy: 0.7571 - val_loss: 0.6252 - val_accuracy: 0.7534\n",
      "Epoch 27/100\n",
      "32/32 [==============================] - 0s 3ms/step - loss: 0.6139 - accuracy: 0.7883 - val_loss: 0.6205 - val_accuracy: 0.7626\n",
      "Epoch 28/100\n",
      "32/32 [==============================] - 0s 3ms/step - loss: 0.6152 - accuracy: 0.7810 - val_loss: 0.6156 - val_accuracy: 0.7671\n",
      "Epoch 29/100\n",
      "32/32 [==============================] - 0s 3ms/step - loss: 0.6081 - accuracy: 0.7902 - val_loss: 0.6104 - val_accuracy: 0.7717\n",
      "Epoch 30/100\n",
      "32/32 [==============================] - 0s 3ms/step - loss: 0.6041 - accuracy: 0.7919 - val_loss: 0.6050 - val_accuracy: 0.7717\n",
      "Epoch 31/100\n",
      "32/32 [==============================] - 0s 3ms/step - loss: 0.5994 - accuracy: 0.7875 - val_loss: 0.5993 - val_accuracy: 0.7763\n",
      "Epoch 32/100\n",
      "32/32 [==============================] - 0s 3ms/step - loss: 0.5927 - accuracy: 0.8215 - val_loss: 0.5934 - val_accuracy: 0.7854\n",
      "Epoch 33/100\n",
      "32/32 [==============================] - 0s 3ms/step - loss: 0.5863 - accuracy: 0.8133 - val_loss: 0.5872 - val_accuracy: 0.7991\n",
      "Epoch 34/100\n",
      "32/32 [==============================] - 0s 3ms/step - loss: 0.5766 - accuracy: 0.8312 - val_loss: 0.5806 - val_accuracy: 0.8037\n",
      "Epoch 35/100\n",
      "32/32 [==============================] - 0s 3ms/step - loss: 0.5786 - accuracy: 0.8174 - val_loss: 0.5740 - val_accuracy: 0.8037\n",
      "Epoch 36/100\n",
      "32/32 [==============================] - 0s 3ms/step - loss: 0.5700 - accuracy: 0.8091 - val_loss: 0.5670 - val_accuracy: 0.8082\n",
      "Epoch 37/100\n",
      "32/32 [==============================] - 0s 3ms/step - loss: 0.5543 - accuracy: 0.8342 - val_loss: 0.5597 - val_accuracy: 0.8174\n",
      "Epoch 38/100\n",
      "32/32 [==============================] - 0s 3ms/step - loss: 0.5551 - accuracy: 0.8295 - val_loss: 0.5525 - val_accuracy: 0.8174\n",
      "Epoch 39/100\n",
      "32/32 [==============================] - 0s 3ms/step - loss: 0.5399 - accuracy: 0.8246 - val_loss: 0.5447 - val_accuracy: 0.8265\n",
      "Epoch 40/100\n",
      "32/32 [==============================] - 0s 3ms/step - loss: 0.5340 - accuracy: 0.8390 - val_loss: 0.5370 - val_accuracy: 0.8311\n",
      "Epoch 41/100\n",
      "32/32 [==============================] - 0s 3ms/step - loss: 0.5252 - accuracy: 0.8633 - val_loss: 0.5291 - val_accuracy: 0.8311\n",
      "Epoch 42/100\n",
      "32/32 [==============================] - 0s 3ms/step - loss: 0.5228 - accuracy: 0.8341 - val_loss: 0.5213 - val_accuracy: 0.8356\n",
      "Epoch 43/100\n",
      "32/32 [==============================] - 0s 3ms/step - loss: 0.5048 - accuracy: 0.8556 - val_loss: 0.5132 - val_accuracy: 0.8311\n",
      "Epoch 44/100\n",
      "32/32 [==============================] - 0s 3ms/step - loss: 0.5018 - accuracy: 0.8561 - val_loss: 0.5049 - val_accuracy: 0.8356\n",
      "Epoch 45/100\n",
      "32/32 [==============================] - 0s 3ms/step - loss: 0.4943 - accuracy: 0.8537 - val_loss: 0.4968 - val_accuracy: 0.8402\n",
      "Epoch 46/100\n",
      "32/32 [==============================] - 0s 3ms/step - loss: 0.4938 - accuracy: 0.8465 - val_loss: 0.4885 - val_accuracy: 0.8447\n",
      "Epoch 47/100\n",
      "32/32 [==============================] - 0s 3ms/step - loss: 0.4795 - accuracy: 0.8424 - val_loss: 0.4802 - val_accuracy: 0.8447\n",
      "Epoch 48/100\n",
      "32/32 [==============================] - 0s 3ms/step - loss: 0.4721 - accuracy: 0.8441 - val_loss: 0.4723 - val_accuracy: 0.8447\n",
      "Epoch 49/100\n",
      "32/32 [==============================] - 0s 3ms/step - loss: 0.4637 - accuracy: 0.8458 - val_loss: 0.4641 - val_accuracy: 0.8402\n",
      "Epoch 50/100\n",
      "32/32 [==============================] - 0s 3ms/step - loss: 0.4529 - accuracy: 0.8475 - val_loss: 0.4563 - val_accuracy: 0.8402\n",
      "Epoch 51/100\n",
      "32/32 [==============================] - 0s 3ms/step - loss: 0.4392 - accuracy: 0.8595 - val_loss: 0.4487 - val_accuracy: 0.8402\n",
      "Epoch 52/100\n",
      "32/32 [==============================] - 0s 3ms/step - loss: 0.4286 - accuracy: 0.8692 - val_loss: 0.4414 - val_accuracy: 0.8356\n",
      "Epoch 53/100\n",
      "32/32 [==============================] - 0s 3ms/step - loss: 0.4330 - accuracy: 0.8590 - val_loss: 0.4342 - val_accuracy: 0.8402\n",
      "Epoch 54/100\n",
      "32/32 [==============================] - 0s 3ms/step - loss: 0.4259 - accuracy: 0.8447 - val_loss: 0.4282 - val_accuracy: 0.8402\n",
      "Epoch 55/100\n",
      "32/32 [==============================] - 0s 3ms/step - loss: 0.4249 - accuracy: 0.8434 - val_loss: 0.4211 - val_accuracy: 0.8447\n",
      "Epoch 56/100\n",
      "32/32 [==============================] - 0s 3ms/step - loss: 0.4209 - accuracy: 0.8522 - val_loss: 0.4146 - val_accuracy: 0.8447\n",
      "Epoch 57/100\n",
      "32/32 [==============================] - 0s 3ms/step - loss: 0.4010 - accuracy: 0.8625 - val_loss: 0.4083 - val_accuracy: 0.8447\n",
      "Epoch 58/100\n",
      "32/32 [==============================] - 0s 3ms/step - loss: 0.4134 - accuracy: 0.8592 - val_loss: 0.4025 - val_accuracy: 0.8447\n"
     ]
    },
    {
     "name": "stdout",
     "output_type": "stream",
     "text": [
      "Epoch 59/100\n",
      "32/32 [==============================] - 0s 3ms/step - loss: 0.4043 - accuracy: 0.8477 - val_loss: 0.3977 - val_accuracy: 0.8402\n",
      "Epoch 60/100\n",
      "32/32 [==============================] - 0s 3ms/step - loss: 0.3806 - accuracy: 0.8748 - val_loss: 0.3921 - val_accuracy: 0.8447\n",
      "Epoch 61/100\n",
      "32/32 [==============================] - 0s 2ms/step - loss: 0.3927 - accuracy: 0.8514 - val_loss: 0.3869 - val_accuracy: 0.8539\n",
      "Epoch 62/100\n",
      "32/32 [==============================] - 0s 3ms/step - loss: 0.3916 - accuracy: 0.8546 - val_loss: 0.3822 - val_accuracy: 0.8539\n",
      "Epoch 63/100\n",
      "32/32 [==============================] - 0s 3ms/step - loss: 0.3642 - accuracy: 0.8762 - val_loss: 0.3772 - val_accuracy: 0.8539\n",
      "Epoch 64/100\n",
      "32/32 [==============================] - 0s 3ms/step - loss: 0.3752 - accuracy: 0.8649 - val_loss: 0.3739 - val_accuracy: 0.8493\n",
      "Epoch 65/100\n",
      "32/32 [==============================] - 0s 3ms/step - loss: 0.3810 - accuracy: 0.8579 - val_loss: 0.3689 - val_accuracy: 0.8584\n",
      "Epoch 66/100\n",
      "32/32 [==============================] - 0s 3ms/step - loss: 0.3562 - accuracy: 0.8713 - val_loss: 0.3652 - val_accuracy: 0.8539\n",
      "Epoch 67/100\n",
      "32/32 [==============================] - 0s 3ms/step - loss: 0.3603 - accuracy: 0.8772 - val_loss: 0.3637 - val_accuracy: 0.8539\n",
      "Epoch 68/100\n",
      "32/32 [==============================] - 0s 3ms/step - loss: 0.3640 - accuracy: 0.8743 - val_loss: 0.3577 - val_accuracy: 0.8584\n",
      "Epoch 69/100\n",
      "32/32 [==============================] - 0s 3ms/step - loss: 0.3678 - accuracy: 0.8588 - val_loss: 0.3547 - val_accuracy: 0.8584\n",
      "Epoch 70/100\n",
      "32/32 [==============================] - 0s 3ms/step - loss: 0.3570 - accuracy: 0.8515 - val_loss: 0.3518 - val_accuracy: 0.8676\n",
      "Epoch 71/100\n",
      "32/32 [==============================] - 0s 3ms/step - loss: 0.3570 - accuracy: 0.8646 - val_loss: 0.3487 - val_accuracy: 0.8721\n",
      "Epoch 72/100\n",
      "32/32 [==============================] - 0s 3ms/step - loss: 0.3451 - accuracy: 0.8793 - val_loss: 0.3469 - val_accuracy: 0.8584\n",
      "Epoch 73/100\n",
      "32/32 [==============================] - 0s 3ms/step - loss: 0.3681 - accuracy: 0.8499 - val_loss: 0.3426 - val_accuracy: 0.8676\n",
      "Epoch 74/100\n",
      "32/32 [==============================] - 0s 3ms/step - loss: 0.3349 - accuracy: 0.8741 - val_loss: 0.3406 - val_accuracy: 0.8721\n",
      "Epoch 75/100\n",
      "32/32 [==============================] - 0s 3ms/step - loss: 0.3143 - accuracy: 0.8901 - val_loss: 0.3383 - val_accuracy: 0.8721\n",
      "Epoch 76/100\n",
      "32/32 [==============================] - 0s 3ms/step - loss: 0.3405 - accuracy: 0.8760 - val_loss: 0.3361 - val_accuracy: 0.8721\n",
      "Epoch 77/100\n",
      "32/32 [==============================] - 0s 3ms/step - loss: 0.3232 - accuracy: 0.8757 - val_loss: 0.3333 - val_accuracy: 0.8721\n",
      "Epoch 78/100\n",
      "32/32 [==============================] - 0s 3ms/step - loss: 0.3743 - accuracy: 0.8531 - val_loss: 0.3315 - val_accuracy: 0.8813\n",
      "Epoch 79/100\n",
      "32/32 [==============================] - 0s 3ms/step - loss: 0.3421 - accuracy: 0.8600 - val_loss: 0.3299 - val_accuracy: 0.8813\n",
      "Epoch 80/100\n",
      "32/32 [==============================] - 0s 3ms/step - loss: 0.3373 - accuracy: 0.8581 - val_loss: 0.3275 - val_accuracy: 0.8721\n",
      "Epoch 81/100\n",
      "32/32 [==============================] - 0s 3ms/step - loss: 0.3164 - accuracy: 0.8869 - val_loss: 0.3267 - val_accuracy: 0.8767\n",
      "Epoch 82/100\n",
      "32/32 [==============================] - 0s 3ms/step - loss: 0.3052 - accuracy: 0.8845 - val_loss: 0.3241 - val_accuracy: 0.8721\n",
      "Epoch 83/100\n",
      "32/32 [==============================] - 0s 3ms/step - loss: 0.3339 - accuracy: 0.8665 - val_loss: 0.3259 - val_accuracy: 0.8630\n",
      "Epoch 84/100\n",
      "32/32 [==============================] - 0s 3ms/step - loss: 0.3148 - accuracy: 0.8849 - val_loss: 0.3215 - val_accuracy: 0.8813\n",
      "Epoch 85/100\n",
      "32/32 [==============================] - 0s 3ms/step - loss: 0.3144 - accuracy: 0.8814 - val_loss: 0.3197 - val_accuracy: 0.8813\n",
      "Epoch 86/100\n",
      "32/32 [==============================] - 0s 3ms/step - loss: 0.3235 - accuracy: 0.8689 - val_loss: 0.3176 - val_accuracy: 0.8721\n",
      "Epoch 87/100\n",
      "32/32 [==============================] - 0s 3ms/step - loss: 0.2985 - accuracy: 0.8878 - val_loss: 0.3163 - val_accuracy: 0.8721\n",
      "Epoch 88/100\n",
      "32/32 [==============================] - 0s 3ms/step - loss: 0.3031 - accuracy: 0.8866 - val_loss: 0.3156 - val_accuracy: 0.8813\n",
      "Epoch 89/100\n",
      "32/32 [==============================] - 0s 2ms/step - loss: 0.3183 - accuracy: 0.8724 - val_loss: 0.3156 - val_accuracy: 0.8813\n",
      "Epoch 90/100\n",
      "32/32 [==============================] - 0s 3ms/step - loss: 0.3047 - accuracy: 0.8796 - val_loss: 0.3139 - val_accuracy: 0.8813\n",
      "Epoch 91/100\n",
      "32/32 [==============================] - 0s 3ms/step - loss: 0.3248 - accuracy: 0.8678 - val_loss: 0.3114 - val_accuracy: 0.8767\n",
      "Epoch 92/100\n",
      "32/32 [==============================] - 0s 3ms/step - loss: 0.3239 - accuracy: 0.8630 - val_loss: 0.3126 - val_accuracy: 0.8767\n",
      "Epoch 93/100\n",
      "32/32 [==============================] - 0s 3ms/step - loss: 0.3141 - accuracy: 0.8784 - val_loss: 0.3094 - val_accuracy: 0.8813\n",
      "Epoch 94/100\n",
      "32/32 [==============================] - 0s 3ms/step - loss: 0.3299 - accuracy: 0.8689 - val_loss: 0.3079 - val_accuracy: 0.8767\n",
      "Epoch 95/100\n",
      "32/32 [==============================] - 0s 2ms/step - loss: 0.3089 - accuracy: 0.8837 - val_loss: 0.3064 - val_accuracy: 0.8813\n",
      "Epoch 96/100\n",
      "32/32 [==============================] - 0s 2ms/step - loss: 0.2746 - accuracy: 0.9094 - val_loss: 0.3069 - val_accuracy: 0.8813\n",
      "Epoch 97/100\n",
      "32/32 [==============================] - 0s 2ms/step - loss: 0.3252 - accuracy: 0.8803 - val_loss: 0.3067 - val_accuracy: 0.8813\n",
      "Epoch 98/100\n",
      "32/32 [==============================] - 0s 2ms/step - loss: 0.3271 - accuracy: 0.8771 - val_loss: 0.3047 - val_accuracy: 0.8813\n",
      "Epoch 99/100\n",
      "32/32 [==============================] - 0s 3ms/step - loss: 0.3153 - accuracy: 0.8730 - val_loss: 0.3030 - val_accuracy: 0.8858\n",
      "Epoch 100/100\n",
      "32/32 [==============================] - 0s 2ms/step - loss: 0.3078 - accuracy: 0.8802 - val_loss: 0.3032 - val_accuracy: 0.8813\n"
     ]
    }
   ],
   "source": [
    "# training the model on the data\n",
    "hist = model.fit(X_train, Y_train, # X_train and Y_train are the data it's being trained on\n",
    "          batch_size=32, epochs=100, # batch_size - size of the mini-batch, epochs is how long you're training for\n",
    "          validation_data=(X_val, Y_val)) # specifying validation data means that the model will share how it's doing on the validation data at each point"
   ]
  },
  {
   "cell_type": "markdown",
   "metadata": {},
   "source": [
    "# Evaluating the final model"
   ]
  },
  {
   "cell_type": "code",
   "execution_count": 5,
   "metadata": {},
   "outputs": [
    {
     "name": "stdout",
     "output_type": "stream",
     "text": [
      "7/7 [==============================] - 0s 2ms/step - loss: 0.2549 - accuracy: 0.8950\n"
     ]
    },
    {
     "data": {
      "text/plain": [
       "0.8949771523475647"
      ]
     },
     "execution_count": 5,
     "metadata": {},
     "output_type": "execute_result"
    }
   ],
   "source": [
    "model.evaluate(X_test, Y_test)[1] # Needs [1] becase the function returns the loss as the first eleemnt and accuracy as the second\n",
    "    # to only get the accuracy, access the second element through [1]"
   ]
  },
  {
   "cell_type": "markdown",
   "metadata": {},
   "source": [
    "# Visualizing loss and accuracy"
   ]
  },
  {
   "cell_type": "code",
   "execution_count": 6,
   "metadata": {},
   "outputs": [
    {
     "data": {
      "image/png": "[encoded data removed]",
      "text/plain": [
       "<Figure size 432x288 with 1 Axes>"
      ]
     },
     "metadata": {
      "needs_background": "light"
     },
     "output_type": "display_data"
    },
    {
     "data": {
      "image/png": "[encoded data removed]",
      "text/plain": [
       "<Figure size 432x288 with 1 Axes>"
      ]
     },
     "metadata": {
      "needs_background": "light"
     },
     "output_type": "display_data"
    }
   ],
   "source": [
    "import matplotlib.pyplot as plt\n",
    "\n",
    "# to visualize the training loss and validation loss\n",
    "plt.plot(hist.history['loss']) # specifies you want to plot loss\n",
    "plt.plot(hist.history['val_loss']) # specifies you want to plot val_loss\n",
    "plt.title('Model loss') # specifies totile of the graph\n",
    "plt.ylabel('Loss') # specifies x axis is Loss\n",
    "plt.xlabel('Epoch') # specifies y axis is Epoch\n",
    "plt.legend(['Train', 'Val'], loc='upper right') # creates legend for graph in the upper right\n",
    "plt.show() # display the graph\n",
    "\n",
    "# to visualize the training accuracy and validation accuracy\n",
    "plt.plot(hist.history['accuracy'])\n",
    "plt.plot(hist.history['val_accuracy'])\n",
    "plt.title('Model accuracy')\n",
    "plt.ylabel('Accuracy')\n",
    "plt.xlabel('Epoch')\n",
    "plt.legend(['Train', 'Val'], loc='lower right')\n",
    "plt.show()"
   ]
  }
 ],
 "metadata": {
  "kernelspec": {
   "display_name": "Python 3",
   "language": "python",
   "name": "python3"
  },
  "language_info": {
   "codemirror_mode": {
    "name": "ipython",
    "version": 3
   },
   "file_extension": ".py",
   "mimetype": "text/x-python",
   "name": "python",
   "nbconvert_exporter": "python",
   "pygments_lexer": "ipython3",
   "version": "3.8.5"
  }
 },
 "nbformat": 4,
 "nbformat_minor": 4
}
