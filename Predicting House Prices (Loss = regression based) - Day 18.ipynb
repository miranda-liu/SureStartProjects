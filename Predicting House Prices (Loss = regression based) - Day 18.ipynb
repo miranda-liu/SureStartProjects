{
 "cells": [
  {
   "cell_type": "code",
   "execution_count": 7,
   "metadata": {},
   "outputs": [],
   "source": [
    "# Link: https://hackernoon.com/build-your-first-neural-network-to-predict-house-prices-with-keras-3fb0839680f4"
   ]
  },
  {
   "cell_type": "markdown",
   "metadata": {},
   "source": [
    "# Processing data\n",
    "#### 1. read in the CSV and convert to errays\n",
    "#### 2. split dataset into input features and the label\n",
    "#### 3. scale the data so that input features have similar orders of magnitude\n",
    "#### 4. split dataset into training set, validation set, and test set"
   ]
  },
  {
   "cell_type": "code",
   "execution_count": 8,
   "metadata": {},
   "outputs": [
    {
     "name": "stdout",
     "output_type": "stream",
     "text": [
      "(1022, 10) (219, 10) (219, 10) (1022,) (219,) (219,)\n"
     ]
    }
   ],
   "source": [
    "import pandas as pd\n",
    "\n",
    "# read in the dataset's file\n",
    "df = pd.read_csv('housepricedata.csv')\n",
    "\n",
    "# input features (1st 10 columns): lot areas, overall quality, overall condition, total basement area, # of full bathrooms, # of half bathrooms, # of bedrooms above ground, total # of rooms above ground, # of fireplaces, garage area\n",
    "# the feature being predicted is the last column: above median price (1 = yes, 0 = no)\n",
    "\n",
    "# convert the data into arrays so that it can be processed\n",
    "dataset = df.values\n",
    "\n",
    "# split the dataset into input features (X) and the feature being predicted (Y)\n",
    "    # X: assign 1st 10 columns of the array to X\n",
    "    # Y: assign last column of array to Y\n",
    "X = dataset[:,0:10] # everything before the comma = rows of the array, everything after comma = columns of the arrays\n",
    "    # because you don't want to split the rows, putting : before the comma means \"take all the rows in the dataset and put it in X\"\n",
    "    # then to get the first 10 columns, the 0:10 after the comma means take columns 0-9 and put it in X\n",
    "Y = dataset[:,10]\n",
    "\n",
    "# make sure scale of input features (X) are similar\n",
    "    # lot area --> thousands, overall quality --> 1-10, fireplaces --> 0-2\n",
    "from sklearn import preprocessing\n",
    "min_max_scaler = preprocessing.MinMaxScaler() # min_max scaler scales the dataset so all input features are between 0-1 (inclusive)\n",
    "X_scale = min_max_scaler.fit_transform(X) # scaled dataset is in the array X_scale\n",
    "\n",
    "# split dataset into training set, validation set, and test set\n",
    "from sklearn.model_selection import train_test_split\n",
    "X_train, X_val_and_test, Y_train, Y_val_and_test = train_test_split(X_scale, Y, test_size=0.3)\n",
    "    # val_and_test size will be 30% of overall dataset\n",
    "    # store split data into first 4 variables on the left\n",
    "    # problem: only split dataset into 2\n",
    "X_val, X_test, Y_val, Y_test = train_test_split(X_val_and_test, Y_val_and_test, test_size=0.5)\n",
    "    # splits the val_and_test size equally to validation and test sets\n",
    "\n",
    "# six variables representing the dataset\n",
    "    # X_train (10 input features, 70% of full dataset)\n",
    "    # X_val (10 input features, 15% of full dataset)\n",
    "    # X_test (10 input features, 15% of full dataset)\n",
    "    # Y_train (1 label, 70% of full dataset)\n",
    "    # Y_val (1 label, 15% of full dataset)\n",
    "    # Y_test (1 label, 15% of full dataset)\n",
    "\n",
    "# to see shapes of the arrays:\n",
    "print(X_train.shape, X_val.shape, X_test.shape, Y_train.shape, Y_val.shape, Y_test.shape)\n",
    "    # training set has 1022 data points, validation and test sets only have 219 each\n",
    "    # X variables have 10 input features, Y only has 1 feature to predict"
   ]
  },
  {
   "cell_type": "markdown",
   "metadata": {},
   "source": [
    "# Building and training the neural network\n",
    "#### 1. specify the architecture\n",
    "#### 2. find the best numbers from the data to fill it in"
   ]
  },
  {
   "cell_type": "markdown",
   "metadata": {},
   "source": [
    "## Mean squared error"
   ]
  },
  {
   "cell_type": "code",
   "execution_count": 9,
   "metadata": {},
   "outputs": [],
   "source": [
    "# setting up the architecture\n",
    "    # Hidden layer 1: 32 neurons, ReLU activation\n",
    "    # Hidden layer 2: 32 neurons, ReLU activation\n",
    "    # Output layer: 1 neuron, Sigmoid activation\n",
    "\n",
    "from tensorflow.keras.models import Sequential\n",
    "from tensorflow.keras.layers import Dense\n",
    "model_mse = Sequential([\n",
    "    Dense(32, activation='relu', input_shape=(10,)), # 1st layer = dense (fully connected) layer with 32 neurons, ReLU activation, and input shape of 10 (10 input features)\n",
    "    Dense(32, activation='relu'), # 2nd layer = dense layer with 32 neurons, ReLU activation, no input shape needs to be defined bc Keras infers it from the output of the first layer\n",
    "    Dense(1, activation='sigmoid'), # 3rd layer = dense layer with 1 neuron, sigmoid activation\n",
    "])\n",
    "\n",
    "# filling in the best numbers\n",
    "    # deterimine the optimization algorithm, loss function, other metrics to track\n",
    "model_mse.compile(optimizer='sgd', # stochastic gradient descent\n",
    "              loss='mean_squared_error', # loss function for outputs that are either 0 or 1\n",
    "              metrics=['accuracy'])"
   ]
  },
  {
   "cell_type": "code",
   "execution_count": 10,
   "metadata": {},
   "outputs": [
    {
     "name": "stdout",
     "output_type": "stream",
     "text": [
      "Epoch 1/100\n",
      "32/32 [==============================] - 1s 8ms/step - loss: 0.2464 - accuracy: 0.6577 - val_loss: 0.2449 - val_accuracy: 0.6027\n",
      "Epoch 2/100\n",
      "32/32 [==============================] - 0s 3ms/step - loss: 0.2437 - accuracy: 0.7074 - val_loss: 0.2426 - val_accuracy: 0.6667\n",
      "Epoch 3/100\n",
      "32/32 [==============================] - 0s 3ms/step - loss: 0.2415 - accuracy: 0.6666 - val_loss: 0.2406 - val_accuracy: 0.6393\n",
      "Epoch 4/100\n",
      "32/32 [==============================] - 0s 3ms/step - loss: 0.2403 - accuracy: 0.6392 - val_loss: 0.2388 - val_accuracy: 0.6119\n",
      "Epoch 5/100\n",
      "32/32 [==============================] - 0s 3ms/step - loss: 0.2377 - accuracy: 0.6358 - val_loss: 0.2372 - val_accuracy: 0.6027\n",
      "Epoch 6/100\n",
      "32/32 [==============================] - 0s 3ms/step - loss: 0.2361 - accuracy: 0.6177 - val_loss: 0.2356 - val_accuracy: 0.6027\n",
      "Epoch 7/100\n",
      "32/32 [==============================] - 0s 3ms/step - loss: 0.2356 - accuracy: 0.6106 - val_loss: 0.2341 - val_accuracy: 0.6073\n",
      "Epoch 8/100\n",
      "32/32 [==============================] - 0s 3ms/step - loss: 0.2339 - accuracy: 0.6095 - val_loss: 0.2327 - val_accuracy: 0.6119\n",
      "Epoch 9/100\n",
      "32/32 [==============================] - 0s 3ms/step - loss: 0.2328 - accuracy: 0.6210 - val_loss: 0.2313 - val_accuracy: 0.6301\n",
      "Epoch 10/100\n",
      "32/32 [==============================] - 0s 3ms/step - loss: 0.2309 - accuracy: 0.6372 - val_loss: 0.2299 - val_accuracy: 0.6393\n",
      "Epoch 11/100\n",
      "32/32 [==============================] - 0s 3ms/step - loss: 0.2314 - accuracy: 0.6344 - val_loss: 0.2286 - val_accuracy: 0.6347\n",
      "Epoch 12/100\n",
      "32/32 [==============================] - 0s 3ms/step - loss: 0.2286 - accuracy: 0.6564 - val_loss: 0.2272 - val_accuracy: 0.6438\n",
      "Epoch 13/100\n",
      "32/32 [==============================] - 0s 3ms/step - loss: 0.2272 - accuracy: 0.6728 - val_loss: 0.2259 - val_accuracy: 0.6530\n",
      "Epoch 14/100\n",
      "32/32 [==============================] - 0s 3ms/step - loss: 0.2244 - accuracy: 0.6865 - val_loss: 0.2245 - val_accuracy: 0.6849\n",
      "Epoch 15/100\n",
      "32/32 [==============================] - 0s 3ms/step - loss: 0.2230 - accuracy: 0.7355 - val_loss: 0.2232 - val_accuracy: 0.6941\n",
      "Epoch 16/100\n",
      "32/32 [==============================] - 0s 3ms/step - loss: 0.2235 - accuracy: 0.7350 - val_loss: 0.2218 - val_accuracy: 0.6986\n",
      "Epoch 17/100\n",
      "32/32 [==============================] - 0s 3ms/step - loss: 0.2213 - accuracy: 0.7336 - val_loss: 0.2204 - val_accuracy: 0.7260\n",
      "Epoch 18/100\n",
      "32/32 [==============================] - 0s 3ms/step - loss: 0.2200 - accuracy: 0.7415 - val_loss: 0.2191 - val_accuracy: 0.7397\n",
      "Epoch 19/100\n",
      "32/32 [==============================] - 0s 3ms/step - loss: 0.2179 - accuracy: 0.7769 - val_loss: 0.2177 - val_accuracy: 0.7489\n",
      "Epoch 20/100\n",
      "32/32 [==============================] - 0s 3ms/step - loss: 0.2185 - accuracy: 0.7832 - val_loss: 0.2163 - val_accuracy: 0.7534\n",
      "Epoch 21/100\n",
      "32/32 [==============================] - 0s 3ms/step - loss: 0.2149 - accuracy: 0.7892 - val_loss: 0.2149 - val_accuracy: 0.7717\n",
      "Epoch 22/100\n",
      "32/32 [==============================] - 0s 3ms/step - loss: 0.2128 - accuracy: 0.7952 - val_loss: 0.2135 - val_accuracy: 0.7717\n",
      "Epoch 23/100\n",
      "32/32 [==============================] - 0s 3ms/step - loss: 0.2111 - accuracy: 0.7951 - val_loss: 0.2120 - val_accuracy: 0.7717\n",
      "Epoch 24/100\n",
      "32/32 [==============================] - 0s 3ms/step - loss: 0.2101 - accuracy: 0.8001 - val_loss: 0.2105 - val_accuracy: 0.7854\n",
      "Epoch 25/100\n",
      "32/32 [==============================] - 0s 3ms/step - loss: 0.2093 - accuracy: 0.8070 - val_loss: 0.2090 - val_accuracy: 0.7991\n",
      "Epoch 26/100\n",
      "32/32 [==============================] - 0s 3ms/step - loss: 0.2054 - accuracy: 0.8217 - val_loss: 0.2075 - val_accuracy: 0.8037\n",
      "Epoch 27/100\n",
      "32/32 [==============================] - 0s 3ms/step - loss: 0.2070 - accuracy: 0.8104 - val_loss: 0.2060 - val_accuracy: 0.7991\n",
      "Epoch 28/100\n",
      "32/32 [==============================] - 0s 3ms/step - loss: 0.2054 - accuracy: 0.8148 - val_loss: 0.2044 - val_accuracy: 0.7991\n",
      "Epoch 29/100\n",
      "32/32 [==============================] - 0s 2ms/step - loss: 0.2017 - accuracy: 0.8222 - val_loss: 0.2028 - val_accuracy: 0.8037\n",
      "Epoch 30/100\n",
      "32/32 [==============================] - 0s 2ms/step - loss: 0.2000 - accuracy: 0.8297 - val_loss: 0.2012 - val_accuracy: 0.8082\n",
      "Epoch 31/100\n",
      "32/32 [==============================] - 0s 2ms/step - loss: 0.2005 - accuracy: 0.8298 - val_loss: 0.1995 - val_accuracy: 0.8128\n",
      "Epoch 32/100\n",
      "32/32 [==============================] - 0s 3ms/step - loss: 0.1970 - accuracy: 0.8499 - val_loss: 0.1979 - val_accuracy: 0.8128\n",
      "Epoch 33/100\n",
      "32/32 [==============================] - 0s 2ms/step - loss: 0.1957 - accuracy: 0.8306 - val_loss: 0.1962 - val_accuracy: 0.8174\n",
      "Epoch 34/100\n",
      "32/32 [==============================] - 0s 2ms/step - loss: 0.1941 - accuracy: 0.8328 - val_loss: 0.1945 - val_accuracy: 0.8219\n",
      "Epoch 35/100\n",
      "32/32 [==============================] - 0s 3ms/step - loss: 0.1881 - accuracy: 0.8548 - val_loss: 0.1928 - val_accuracy: 0.8265\n",
      "Epoch 36/100\n",
      "32/32 [==============================] - 0s 3ms/step - loss: 0.1885 - accuracy: 0.8525 - val_loss: 0.1910 - val_accuracy: 0.8265\n",
      "Epoch 37/100\n",
      "32/32 [==============================] - 0s 2ms/step - loss: 0.1892 - accuracy: 0.8326 - val_loss: 0.1892 - val_accuracy: 0.8356\n",
      "Epoch 38/100\n",
      "32/32 [==============================] - 0s 2ms/step - loss: 0.1851 - accuracy: 0.8475 - val_loss: 0.1874 - val_accuracy: 0.8356\n",
      "Epoch 39/100\n",
      "32/32 [==============================] - 0s 3ms/step - loss: 0.1852 - accuracy: 0.8386 - val_loss: 0.1856 - val_accuracy: 0.8356\n",
      "Epoch 40/100\n",
      "32/32 [==============================] - 0s 2ms/step - loss: 0.1816 - accuracy: 0.8401 - val_loss: 0.1838 - val_accuracy: 0.8447\n",
      "Epoch 41/100\n",
      "32/32 [==============================] - 0s 3ms/step - loss: 0.1797 - accuracy: 0.8453 - val_loss: 0.1820 - val_accuracy: 0.8447\n",
      "Epoch 42/100\n",
      "32/32 [==============================] - 0s 3ms/step - loss: 0.1761 - accuracy: 0.8492 - val_loss: 0.1801 - val_accuracy: 0.8447\n",
      "Epoch 43/100\n",
      "32/32 [==============================] - 0s 3ms/step - loss: 0.1761 - accuracy: 0.8440 - val_loss: 0.1783 - val_accuracy: 0.8493\n",
      "Epoch 44/100\n",
      "32/32 [==============================] - 0s 3ms/step - loss: 0.1732 - accuracy: 0.8576 - val_loss: 0.1765 - val_accuracy: 0.8539\n",
      "Epoch 45/100\n",
      "32/32 [==============================] - 0s 3ms/step - loss: 0.1704 - accuracy: 0.8537 - val_loss: 0.1747 - val_accuracy: 0.8584\n",
      "Epoch 46/100\n",
      "32/32 [==============================] - 0s 3ms/step - loss: 0.1724 - accuracy: 0.8277 - val_loss: 0.1729 - val_accuracy: 0.8630\n",
      "Epoch 47/100\n",
      "32/32 [==============================] - 0s 3ms/step - loss: 0.1692 - accuracy: 0.8509 - val_loss: 0.1711 - val_accuracy: 0.8630\n",
      "Epoch 48/100\n",
      "32/32 [==============================] - 0s 3ms/step - loss: 0.1641 - accuracy: 0.8596 - val_loss: 0.1693 - val_accuracy: 0.8630\n",
      "Epoch 49/100\n",
      "32/32 [==============================] - 0s 3ms/step - loss: 0.1635 - accuracy: 0.8418 - val_loss: 0.1675 - val_accuracy: 0.8630\n",
      "Epoch 50/100\n",
      "32/32 [==============================] - 0s 3ms/step - loss: 0.1623 - accuracy: 0.8565 - val_loss: 0.1657 - val_accuracy: 0.8630\n",
      "Epoch 51/100\n",
      "32/32 [==============================] - 0s 3ms/step - loss: 0.1603 - accuracy: 0.8610 - val_loss: 0.1640 - val_accuracy: 0.8539\n",
      "Epoch 52/100\n",
      "32/32 [==============================] - 0s 3ms/step - loss: 0.1599 - accuracy: 0.8395 - val_loss: 0.1623 - val_accuracy: 0.8539\n",
      "Epoch 53/100\n",
      "32/32 [==============================] - 0s 3ms/step - loss: 0.1555 - accuracy: 0.8576 - val_loss: 0.1606 - val_accuracy: 0.8539\n",
      "Epoch 54/100\n",
      "32/32 [==============================] - 0s 2ms/step - loss: 0.1564 - accuracy: 0.8534 - val_loss: 0.1590 - val_accuracy: 0.8584\n",
      "Epoch 55/100\n",
      "32/32 [==============================] - 0s 3ms/step - loss: 0.1475 - accuracy: 0.8709 - val_loss: 0.1574 - val_accuracy: 0.8584\n",
      "Epoch 56/100\n",
      "32/32 [==============================] - 0s 3ms/step - loss: 0.1496 - accuracy: 0.8683 - val_loss: 0.1558 - val_accuracy: 0.8584\n",
      "Epoch 57/100\n",
      "32/32 [==============================] - 0s 3ms/step - loss: 0.1462 - accuracy: 0.8722 - val_loss: 0.1543 - val_accuracy: 0.8584\n",
      "Epoch 58/100\n",
      "32/32 [==============================] - 0s 3ms/step - loss: 0.1458 - accuracy: 0.8695 - val_loss: 0.1527 - val_accuracy: 0.8584\n"
     ]
    },
    {
     "name": "stdout",
     "output_type": "stream",
     "text": [
      "Epoch 59/100\n",
      "32/32 [==============================] - 0s 3ms/step - loss: 0.1449 - accuracy: 0.8669 - val_loss: 0.1513 - val_accuracy: 0.8584\n",
      "Epoch 60/100\n",
      "32/32 [==============================] - 0s 3ms/step - loss: 0.1419 - accuracy: 0.8747 - val_loss: 0.1498 - val_accuracy: 0.8584\n",
      "Epoch 61/100\n",
      "32/32 [==============================] - 0s 3ms/step - loss: 0.1474 - accuracy: 0.8495 - val_loss: 0.1483 - val_accuracy: 0.8584\n",
      "Epoch 62/100\n",
      "32/32 [==============================] - 0s 3ms/step - loss: 0.1434 - accuracy: 0.8480 - val_loss: 0.1470 - val_accuracy: 0.8584\n",
      "Epoch 63/100\n",
      "32/32 [==============================] - 0s 3ms/step - loss: 0.1439 - accuracy: 0.8494 - val_loss: 0.1456 - val_accuracy: 0.8584\n",
      "Epoch 64/100\n",
      "32/32 [==============================] - 0s 3ms/step - loss: 0.1440 - accuracy: 0.8513 - val_loss: 0.1443 - val_accuracy: 0.8539\n",
      "Epoch 65/100\n",
      "32/32 [==============================] - 0s 3ms/step - loss: 0.1337 - accuracy: 0.8652 - val_loss: 0.1430 - val_accuracy: 0.8584\n",
      "Epoch 66/100\n",
      "32/32 [==============================] - 0s 3ms/step - loss: 0.1302 - accuracy: 0.8867 - val_loss: 0.1418 - val_accuracy: 0.8584\n",
      "Epoch 67/100\n",
      "32/32 [==============================] - 0s 3ms/step - loss: 0.1336 - accuracy: 0.8699 - val_loss: 0.1406 - val_accuracy: 0.8584\n",
      "Epoch 68/100\n",
      "32/32 [==============================] - 0s 3ms/step - loss: 0.1337 - accuracy: 0.8620 - val_loss: 0.1394 - val_accuracy: 0.8584\n",
      "Epoch 69/100\n",
      "32/32 [==============================] - 0s 3ms/step - loss: 0.1315 - accuracy: 0.8645 - val_loss: 0.1382 - val_accuracy: 0.8584\n",
      "Epoch 70/100\n",
      "32/32 [==============================] - 0s 2ms/step - loss: 0.1322 - accuracy: 0.8563 - val_loss: 0.1371 - val_accuracy: 0.8584\n",
      "Epoch 71/100\n",
      "32/32 [==============================] - 0s 3ms/step - loss: 0.1275 - accuracy: 0.8690 - val_loss: 0.1360 - val_accuracy: 0.8584\n",
      "Epoch 72/100\n",
      "32/32 [==============================] - 0s 3ms/step - loss: 0.1247 - accuracy: 0.8769 - val_loss: 0.1350 - val_accuracy: 0.8584\n",
      "Epoch 73/100\n",
      "32/32 [==============================] - 0s 2ms/step - loss: 0.1328 - accuracy: 0.8621 - val_loss: 0.1339 - val_accuracy: 0.8584\n",
      "Epoch 74/100\n",
      "32/32 [==============================] - 0s 3ms/step - loss: 0.1324 - accuracy: 0.8584 - val_loss: 0.1330 - val_accuracy: 0.8584\n",
      "Epoch 75/100\n",
      "32/32 [==============================] - 0s 3ms/step - loss: 0.1248 - accuracy: 0.8692 - val_loss: 0.1320 - val_accuracy: 0.8630\n",
      "Epoch 76/100\n",
      "32/32 [==============================] - 0s 3ms/step - loss: 0.1205 - accuracy: 0.8815 - val_loss: 0.1311 - val_accuracy: 0.8676\n",
      "Epoch 77/100\n",
      "32/32 [==============================] - 0s 3ms/step - loss: 0.1244 - accuracy: 0.8660 - val_loss: 0.1302 - val_accuracy: 0.8630\n",
      "Epoch 78/100\n",
      "32/32 [==============================] - 0s 3ms/step - loss: 0.1239 - accuracy: 0.8591 - val_loss: 0.1293 - val_accuracy: 0.8676\n",
      "Epoch 79/100\n",
      "32/32 [==============================] - 0s 2ms/step - loss: 0.1255 - accuracy: 0.8551 - val_loss: 0.1284 - val_accuracy: 0.8630\n",
      "Epoch 80/100\n",
      "32/32 [==============================] - 0s 3ms/step - loss: 0.1172 - accuracy: 0.8815 - val_loss: 0.1276 - val_accuracy: 0.8630\n",
      "Epoch 81/100\n",
      "32/32 [==============================] - 0s 3ms/step - loss: 0.1204 - accuracy: 0.8587 - val_loss: 0.1268 - val_accuracy: 0.8630\n",
      "Epoch 82/100\n",
      "32/32 [==============================] - 0s 3ms/step - loss: 0.1139 - accuracy: 0.8809 - val_loss: 0.1260 - val_accuracy: 0.8630\n",
      "Epoch 83/100\n",
      "32/32 [==============================] - 0s 2ms/step - loss: 0.1152 - accuracy: 0.8759 - val_loss: 0.1253 - val_accuracy: 0.8539\n",
      "Epoch 84/100\n",
      "32/32 [==============================] - 0s 2ms/step - loss: 0.1143 - accuracy: 0.8725 - val_loss: 0.1246 - val_accuracy: 0.8539\n",
      "Epoch 85/100\n",
      "32/32 [==============================] - 0s 3ms/step - loss: 0.1103 - accuracy: 0.8871 - val_loss: 0.1238 - val_accuracy: 0.8539\n",
      "Epoch 86/100\n",
      "32/32 [==============================] - 0s 3ms/step - loss: 0.1159 - accuracy: 0.8733 - val_loss: 0.1232 - val_accuracy: 0.8584\n",
      "Epoch 87/100\n",
      "32/32 [==============================] - 0s 3ms/step - loss: 0.1173 - accuracy: 0.8645 - val_loss: 0.1225 - val_accuracy: 0.8584\n",
      "Epoch 88/100\n",
      "32/32 [==============================] - 0s 3ms/step - loss: 0.1039 - accuracy: 0.8907 - val_loss: 0.1218 - val_accuracy: 0.8539\n",
      "Epoch 89/100\n",
      "32/32 [==============================] - 0s 2ms/step - loss: 0.1108 - accuracy: 0.8782 - val_loss: 0.1212 - val_accuracy: 0.8539\n",
      "Epoch 90/100\n",
      "32/32 [==============================] - 0s 2ms/step - loss: 0.1116 - accuracy: 0.8701 - val_loss: 0.1206 - val_accuracy: 0.8539\n",
      "Epoch 91/100\n",
      "32/32 [==============================] - 0s 3ms/step - loss: 0.1139 - accuracy: 0.8638 - val_loss: 0.1200 - val_accuracy: 0.8539\n",
      "Epoch 92/100\n",
      "32/32 [==============================] - 0s 3ms/step - loss: 0.1090 - accuracy: 0.8699 - val_loss: 0.1194 - val_accuracy: 0.8539\n",
      "Epoch 93/100\n",
      "32/32 [==============================] - 0s 3ms/step - loss: 0.1160 - accuracy: 0.8710 - val_loss: 0.1189 - val_accuracy: 0.8539\n",
      "Epoch 94/100\n",
      "32/32 [==============================] - 0s 3ms/step - loss: 0.1078 - accuracy: 0.8762 - val_loss: 0.1183 - val_accuracy: 0.8539\n",
      "Epoch 95/100\n",
      "32/32 [==============================] - 0s 3ms/step - loss: 0.1105 - accuracy: 0.8788 - val_loss: 0.1178 - val_accuracy: 0.8539\n",
      "Epoch 96/100\n",
      "32/32 [==============================] - 0s 2ms/step - loss: 0.1085 - accuracy: 0.8755 - val_loss: 0.1173 - val_accuracy: 0.8539\n",
      "Epoch 97/100\n",
      "32/32 [==============================] - 0s 3ms/step - loss: 0.1064 - accuracy: 0.8691 - val_loss: 0.1168 - val_accuracy: 0.8584\n",
      "Epoch 98/100\n",
      "32/32 [==============================] - 0s 3ms/step - loss: 0.1031 - accuracy: 0.8676 - val_loss: 0.1163 - val_accuracy: 0.8676\n",
      "Epoch 99/100\n",
      "32/32 [==============================] - 0s 3ms/step - loss: 0.1018 - accuracy: 0.8772 - val_loss: 0.1159 - val_accuracy: 0.8676\n",
      "Epoch 100/100\n",
      "32/32 [==============================] - 0s 3ms/step - loss: 0.1088 - accuracy: 0.8677 - val_loss: 0.1154 - val_accuracy: 0.8584\n"
     ]
    }
   ],
   "source": [
    "# training the model on the data\n",
    "hist_mse = model_mse.fit(X_train, Y_train, # X_train and Y_train are the data it's being trained on\n",
    "          batch_size=32, epochs=100, # batch_size - size of the mini-batch, epochs is how long you're training for\n",
    "          validation_data=(X_val, Y_val)) # specifying validation data means that the model will share how it's doing on the validation data at each point"
   ]
  },
  {
   "cell_type": "markdown",
   "metadata": {},
   "source": [
    "# Evaluating the final model"
   ]
  },
  {
   "cell_type": "code",
   "execution_count": 11,
   "metadata": {},
   "outputs": [
    {
     "name": "stdout",
     "output_type": "stream",
     "text": [
      "7/7 [==============================] - 0s 1ms/step - loss: 0.1053 - accuracy: 0.8858\n"
     ]
    },
    {
     "data": {
      "text/plain": [
       "0.8858447670936584"
      ]
     },
     "execution_count": 11,
     "metadata": {},
     "output_type": "execute_result"
    }
   ],
   "source": [
    "model_mse.evaluate(X_test, Y_test)[1] # Needs [1] becase the function returns the loss as the first eleemnt and accuracy as the second\n",
    "    # to only get the accuracy, access the second element through [1]"
   ]
  },
  {
   "cell_type": "markdown",
   "metadata": {},
   "source": [
    "# Visualizing loss and accuracy"
   ]
  },
  {
   "cell_type": "code",
   "execution_count": 12,
   "metadata": {},
   "outputs": [
    {
     "data": {
      "image/png": "[encoded data removed]",
      "text/plain": [
       "<Figure size 432x288 with 1 Axes>"
      ]
     },
     "metadata": {
      "needs_background": "light"
     },
     "output_type": "display_data"
    },
    {
     "data": {
      "image/png": "[encoded data removed]",
      "text/plain": [
       "<Figure size 432x288 with 1 Axes>"
      ]
     },
     "metadata": {
      "needs_background": "light"
     },
     "output_type": "display_data"
    }
   ],
   "source": [
    "import matplotlib.pyplot as plt\n",
    "\n",
    "# to visualize the training loss and validation loss\n",
    "plt.plot(hist_mse.history['loss']) # specifies you want to plot loss\n",
    "plt.plot(hist_mse.history['val_loss']) # specifies you want to plot val_loss\n",
    "plt.title('Model loss') # specifies totile of the graph\n",
    "plt.ylabel('Loss') # specifies x axis is Loss\n",
    "plt.xlabel('Epoch') # specifies y axis is Epoch\n",
    "plt.legend(['Train', 'Val'], loc='upper right') # creates legend for graph in the upper right\n",
    "plt.show() # display the graph\n",
    "\n",
    "# to visualize the training accuracy and validation accuracy\n",
    "plt.plot(hist_mse.history['accuracy'])\n",
    "plt.plot(hist_mse.history['val_accuracy'])\n",
    "plt.title('Model accuracy')\n",
    "plt.ylabel('Accuracy')\n",
    "plt.xlabel('Epoch')\n",
    "plt.legend(['Train', 'Val'], loc='lower right')\n",
    "plt.show()"
   ]
  },
  {
   "cell_type": "markdown",
   "metadata": {},
   "source": [
    "## Mean absolute error"
   ]
  },
  {
   "cell_type": "code",
   "execution_count": 13,
   "metadata": {},
   "outputs": [],
   "source": [
    "# setting up the architecture\n",
    "    # Hidden layer 1: 32 neurons, ReLU activation\n",
    "    # Hidden layer 2: 32 neurons, ReLU activation\n",
    "    # Output layer: 1 neuron, Sigmoid activation\n",
    "\n",
    "from tensorflow.keras.models import Sequential\n",
    "from tensorflow.keras.layers import Dense\n",
    "model_mae = Sequential([\n",
    "    Dense(32, activation='relu', input_shape=(10,)), # 1st layer = dense (fully connected) layer with 32 neurons, ReLU activation, and input shape of 10 (10 input features)\n",
    "    Dense(32, activation='relu'), # 2nd layer = dense layer with 32 neurons, ReLU activation, no input shape needs to be defined bc Keras infers it from the output of the first layer\n",
    "    Dense(1, activation='sigmoid'), # 3rd layer = dense layer with 1 neuron, sigmoid activation\n",
    "])\n",
    "\n",
    "# filling in the best numbers\n",
    "    # deterimine the optimization algorithm, loss function, other metrics to track\n",
    "model_mae.compile(optimizer='sgd', # stochastic gradient descent\n",
    "              loss='mean_absolute_error', # loss function for outputs that are either 0 or 1\n",
    "              metrics=['accuracy'])"
   ]
  },
  {
   "cell_type": "code",
   "execution_count": 14,
   "metadata": {},
   "outputs": [
    {
     "name": "stdout",
     "output_type": "stream",
     "text": [
      "Epoch 1/100\n",
      "32/32 [==============================] - 1s 7ms/step - loss: 0.5052 - accuracy: 0.3513 - val_loss: 0.5028 - val_accuracy: 0.4338\n",
      "Epoch 2/100\n",
      "32/32 [==============================] - 0s 3ms/step - loss: 0.5031 - accuracy: 0.3903 - val_loss: 0.5014 - val_accuracy: 0.4932\n",
      "Epoch 3/100\n",
      "32/32 [==============================] - 0s 3ms/step - loss: 0.5010 - accuracy: 0.4958 - val_loss: 0.4999 - val_accuracy: 0.5845\n",
      "Epoch 4/100\n",
      "32/32 [==============================] - 0s 3ms/step - loss: 0.5003 - accuracy: 0.5448 - val_loss: 0.4985 - val_accuracy: 0.6210\n",
      "Epoch 5/100\n",
      "32/32 [==============================] - ETA: 0s - loss: 0.4983 - accuracy: 0.56 - 0s 3ms/step - loss: 0.4984 - accuracy: 0.5784 - val_loss: 0.4971 - val_accuracy: 0.6301\n",
      "Epoch 6/100\n",
      "32/32 [==============================] - 0s 3ms/step - loss: 0.4967 - accuracy: 0.6088 - val_loss: 0.4958 - val_accuracy: 0.6164\n",
      "Epoch 7/100\n",
      "32/32 [==============================] - 0s 3ms/step - loss: 0.4958 - accuracy: 0.6358 - val_loss: 0.4943 - val_accuracy: 0.6119\n",
      "Epoch 8/100\n",
      "32/32 [==============================] - 0s 3ms/step - loss: 0.4946 - accuracy: 0.6649 - val_loss: 0.4928 - val_accuracy: 0.6438\n",
      "Epoch 9/100\n",
      "32/32 [==============================] - 0s 3ms/step - loss: 0.4924 - accuracy: 0.6688 - val_loss: 0.4913 - val_accuracy: 0.6621\n",
      "Epoch 10/100\n",
      "32/32 [==============================] - 0s 3ms/step - loss: 0.4907 - accuracy: 0.6908 - val_loss: 0.4897 - val_accuracy: 0.6438\n",
      "Epoch 11/100\n",
      "32/32 [==============================] - 0s 3ms/step - loss: 0.4902 - accuracy: 0.6847 - val_loss: 0.4881 - val_accuracy: 0.6530\n",
      "Epoch 12/100\n",
      "32/32 [==============================] - 0s 3ms/step - loss: 0.4902 - accuracy: 0.6616 - val_loss: 0.4866 - val_accuracy: 0.6530\n",
      "Epoch 13/100\n",
      "32/32 [==============================] - 0s 3ms/step - loss: 0.4868 - accuracy: 0.6755 - val_loss: 0.4851 - val_accuracy: 0.6530\n",
      "Epoch 14/100\n",
      "32/32 [==============================] - 0s 3ms/step - loss: 0.4865 - accuracy: 0.6658 - val_loss: 0.4836 - val_accuracy: 0.6438\n",
      "Epoch 15/100\n",
      "32/32 [==============================] - 0s 3ms/step - loss: 0.4834 - accuracy: 0.6556 - val_loss: 0.4822 - val_accuracy: 0.6393\n",
      "Epoch 16/100\n",
      "32/32 [==============================] - 0s 3ms/step - loss: 0.4809 - accuracy: 0.6423 - val_loss: 0.4807 - val_accuracy: 0.6301\n",
      "Epoch 17/100\n",
      "32/32 [==============================] - 0s 3ms/step - loss: 0.4821 - accuracy: 0.6407 - val_loss: 0.4792 - val_accuracy: 0.6301\n",
      "Epoch 18/100\n",
      "32/32 [==============================] - 0s 3ms/step - loss: 0.4789 - accuracy: 0.6288 - val_loss: 0.4777 - val_accuracy: 0.6301\n",
      "Epoch 19/100\n",
      "32/32 [==============================] - 0s 3ms/step - loss: 0.4796 - accuracy: 0.5946 - val_loss: 0.4762 - val_accuracy: 0.6210\n",
      "Epoch 20/100\n",
      "32/32 [==============================] - 0s 3ms/step - loss: 0.4770 - accuracy: 0.5998 - val_loss: 0.4747 - val_accuracy: 0.6210\n",
      "Epoch 21/100\n",
      "32/32 [==============================] - 0s 3ms/step - loss: 0.4725 - accuracy: 0.5905 - val_loss: 0.4732 - val_accuracy: 0.6164\n",
      "Epoch 22/100\n",
      "32/32 [==============================] - 0s 2ms/step - loss: 0.4718 - accuracy: 0.5903 - val_loss: 0.4717 - val_accuracy: 0.6164\n",
      "Epoch 23/100\n",
      "32/32 [==============================] - 0s 3ms/step - loss: 0.4701 - accuracy: 0.5946 - val_loss: 0.4702 - val_accuracy: 0.6210\n",
      "Epoch 24/100\n",
      "32/32 [==============================] - 0s 3ms/step - loss: 0.4714 - accuracy: 0.5848 - val_loss: 0.4686 - val_accuracy: 0.6210\n",
      "Epoch 25/100\n",
      "32/32 [==============================] - 0s 3ms/step - loss: 0.4717 - accuracy: 0.5963 - val_loss: 0.4670 - val_accuracy: 0.6210\n",
      "Epoch 26/100\n",
      "32/32 [==============================] - 0s 3ms/step - loss: 0.4679 - accuracy: 0.5972 - val_loss: 0.4653 - val_accuracy: 0.6256\n",
      "Epoch 27/100\n",
      "32/32 [==============================] - 0s 3ms/step - loss: 0.4682 - accuracy: 0.5938 - val_loss: 0.4635 - val_accuracy: 0.6256\n",
      "Epoch 28/100\n",
      "32/32 [==============================] - 0s 2ms/step - loss: 0.4622 - accuracy: 0.6365 - val_loss: 0.4617 - val_accuracy: 0.6301\n",
      "Epoch 29/100\n",
      "32/32 [==============================] - 0s 2ms/step - loss: 0.4638 - accuracy: 0.6339 - val_loss: 0.4598 - val_accuracy: 0.6347\n",
      "Epoch 30/100\n",
      "32/32 [==============================] - 0s 2ms/step - loss: 0.4590 - accuracy: 0.6386 - val_loss: 0.4578 - val_accuracy: 0.6438\n",
      "Epoch 31/100\n",
      "32/32 [==============================] - 0s 3ms/step - loss: 0.4583 - accuracy: 0.6322 - val_loss: 0.4558 - val_accuracy: 0.6484\n",
      "Epoch 32/100\n",
      "32/32 [==============================] - 0s 2ms/step - loss: 0.4558 - accuracy: 0.6398 - val_loss: 0.4537 - val_accuracy: 0.6484\n",
      "Epoch 33/100\n",
      "32/32 [==============================] - 0s 2ms/step - loss: 0.4529 - accuracy: 0.6593 - val_loss: 0.4515 - val_accuracy: 0.6575\n",
      "Epoch 34/100\n",
      "32/32 [==============================] - 0s 2ms/step - loss: 0.4510 - accuracy: 0.6795 - val_loss: 0.4492 - val_accuracy: 0.6575\n",
      "Epoch 35/100\n",
      "32/32 [==============================] - 0s 2ms/step - loss: 0.4523 - accuracy: 0.6541 - val_loss: 0.4469 - val_accuracy: 0.6621\n",
      "Epoch 36/100\n",
      "32/32 [==============================] - 0s 2ms/step - loss: 0.4445 - accuracy: 0.6775 - val_loss: 0.4445 - val_accuracy: 0.6667\n",
      "Epoch 37/100\n",
      "32/32 [==============================] - 0s 2ms/step - loss: 0.4406 - accuracy: 0.6828 - val_loss: 0.4420 - val_accuracy: 0.6712\n",
      "Epoch 38/100\n",
      "32/32 [==============================] - 0s 2ms/step - loss: 0.4457 - accuracy: 0.6679 - val_loss: 0.4395 - val_accuracy: 0.6712\n",
      "Epoch 39/100\n",
      "32/32 [==============================] - 0s 3ms/step - loss: 0.4447 - accuracy: 0.6912 - val_loss: 0.4368 - val_accuracy: 0.6758\n",
      "Epoch 40/100\n",
      "32/32 [==============================] - 0s 2ms/step - loss: 0.4371 - accuracy: 0.7162 - val_loss: 0.4341 - val_accuracy: 0.6804\n",
      "Epoch 41/100\n",
      "32/32 [==============================] - 0s 2ms/step - loss: 0.4346 - accuracy: 0.6993 - val_loss: 0.4313 - val_accuracy: 0.6804\n",
      "Epoch 42/100\n",
      "32/32 [==============================] - 0s 2ms/step - loss: 0.4274 - accuracy: 0.7379 - val_loss: 0.4284 - val_accuracy: 0.6804\n",
      "Epoch 43/100\n",
      "32/32 [==============================] - 0s 2ms/step - loss: 0.4264 - accuracy: 0.7115 - val_loss: 0.4253 - val_accuracy: 0.6895\n",
      "Epoch 44/100\n",
      "32/32 [==============================] - 0s 2ms/step - loss: 0.4228 - accuracy: 0.7308 - val_loss: 0.4222 - val_accuracy: 0.6941\n",
      "Epoch 45/100\n",
      "32/32 [==============================] - 0s 3ms/step - loss: 0.4213 - accuracy: 0.7284 - val_loss: 0.4190 - val_accuracy: 0.6941\n",
      "Epoch 46/100\n",
      "32/32 [==============================] - 0s 2ms/step - loss: 0.4156 - accuracy: 0.7553 - val_loss: 0.4157 - val_accuracy: 0.7032\n",
      "Epoch 47/100\n",
      "32/32 [==============================] - 0s 2ms/step - loss: 0.4082 - accuracy: 0.7475 - val_loss: 0.4122 - val_accuracy: 0.7123\n",
      "Epoch 48/100\n",
      "32/32 [==============================] - 0s 2ms/step - loss: 0.4137 - accuracy: 0.7438 - val_loss: 0.4087 - val_accuracy: 0.6986\n",
      "Epoch 49/100\n",
      "32/32 [==============================] - 0s 3ms/step - loss: 0.4033 - accuracy: 0.7624 - val_loss: 0.4050 - val_accuracy: 0.7078\n",
      "Epoch 50/100\n",
      "32/32 [==============================] - 0s 3ms/step - loss: 0.4022 - accuracy: 0.7555 - val_loss: 0.4012 - val_accuracy: 0.7123\n",
      "Epoch 51/100\n",
      "32/32 [==============================] - 0s 3ms/step - loss: 0.3983 - accuracy: 0.7600 - val_loss: 0.3973 - val_accuracy: 0.7215\n",
      "Epoch 52/100\n",
      "32/32 [==============================] - 0s 3ms/step - loss: 0.3885 - accuracy: 0.7750 - val_loss: 0.3934 - val_accuracy: 0.7260\n",
      "Epoch 53/100\n",
      "32/32 [==============================] - 0s 3ms/step - loss: 0.3931 - accuracy: 0.7568 - val_loss: 0.3892 - val_accuracy: 0.7352\n",
      "Epoch 54/100\n",
      "32/32 [==============================] - 0s 3ms/step - loss: 0.3879 - accuracy: 0.7777 - val_loss: 0.3850 - val_accuracy: 0.7443\n",
      "Epoch 55/100\n",
      "32/32 [==============================] - 0s 2ms/step - loss: 0.3795 - accuracy: 0.7973 - val_loss: 0.3808 - val_accuracy: 0.7671\n",
      "Epoch 56/100\n",
      "32/32 [==============================] - 0s 3ms/step - loss: 0.3711 - accuracy: 0.8252 - val_loss: 0.3764 - val_accuracy: 0.7763\n",
      "Epoch 57/100\n",
      "32/32 [==============================] - 0s 3ms/step - loss: 0.3761 - accuracy: 0.8043 - val_loss: 0.3719 - val_accuracy: 0.7900\n",
      "Epoch 58/100\n"
     ]
    },
    {
     "name": "stdout",
     "output_type": "stream",
     "text": [
      "32/32 [==============================] - 0s 2ms/step - loss: 0.3674 - accuracy: 0.8147 - val_loss: 0.3674 - val_accuracy: 0.8037\n",
      "Epoch 59/100\n",
      "32/32 [==============================] - 0s 3ms/step - loss: 0.3612 - accuracy: 0.8235 - val_loss: 0.3629 - val_accuracy: 0.8082\n",
      "Epoch 60/100\n",
      "32/32 [==============================] - 0s 3ms/step - loss: 0.3522 - accuracy: 0.8375 - val_loss: 0.3582 - val_accuracy: 0.8128\n",
      "Epoch 61/100\n",
      "32/32 [==============================] - 0s 3ms/step - loss: 0.3555 - accuracy: 0.8177 - val_loss: 0.3535 - val_accuracy: 0.8174\n",
      "Epoch 62/100\n",
      "32/32 [==============================] - 0s 2ms/step - loss: 0.3401 - accuracy: 0.8357 - val_loss: 0.3488 - val_accuracy: 0.8174\n",
      "Epoch 63/100\n",
      "32/32 [==============================] - 0s 2ms/step - loss: 0.3424 - accuracy: 0.8386 - val_loss: 0.3442 - val_accuracy: 0.8128\n",
      "Epoch 64/100\n",
      "32/32 [==============================] - 0s 2ms/step - loss: 0.3344 - accuracy: 0.8350 - val_loss: 0.3394 - val_accuracy: 0.8219\n",
      "Epoch 65/100\n",
      "32/32 [==============================] - 0s 2ms/step - loss: 0.3315 - accuracy: 0.8413 - val_loss: 0.3347 - val_accuracy: 0.8265\n",
      "Epoch 66/100\n",
      "32/32 [==============================] - 0s 2ms/step - loss: 0.3282 - accuracy: 0.8294 - val_loss: 0.3299 - val_accuracy: 0.8265\n",
      "Epoch 67/100\n",
      "32/32 [==============================] - 0s 2ms/step - loss: 0.3173 - accuracy: 0.8392 - val_loss: 0.3252 - val_accuracy: 0.8265\n",
      "Epoch 68/100\n",
      "32/32 [==============================] - 0s 3ms/step - loss: 0.3125 - accuracy: 0.8421 - val_loss: 0.3206 - val_accuracy: 0.8265\n",
      "Epoch 69/100\n",
      "32/32 [==============================] - 0s 3ms/step - loss: 0.3179 - accuracy: 0.8265 - val_loss: 0.3160 - val_accuracy: 0.8356\n",
      "Epoch 70/100\n",
      "32/32 [==============================] - 0s 3ms/step - loss: 0.3045 - accuracy: 0.8474 - val_loss: 0.3115 - val_accuracy: 0.8356\n",
      "Epoch 71/100\n",
      "32/32 [==============================] - 0s 3ms/step - loss: 0.2958 - accuracy: 0.8446 - val_loss: 0.3071 - val_accuracy: 0.8311\n",
      "Epoch 72/100\n",
      "32/32 [==============================] - 0s 2ms/step - loss: 0.2963 - accuracy: 0.8445 - val_loss: 0.3027 - val_accuracy: 0.8356\n",
      "Epoch 73/100\n",
      "32/32 [==============================] - 0s 2ms/step - loss: 0.2932 - accuracy: 0.8504 - val_loss: 0.2985 - val_accuracy: 0.8356\n",
      "Epoch 74/100\n",
      "32/32 [==============================] - 0s 2ms/step - loss: 0.2913 - accuracy: 0.8401 - val_loss: 0.2943 - val_accuracy: 0.8402\n",
      "Epoch 75/100\n",
      "32/32 [==============================] - 0s 3ms/step - loss: 0.2888 - accuracy: 0.8322 - val_loss: 0.2902 - val_accuracy: 0.8402\n",
      "Epoch 76/100\n",
      "32/32 [==============================] - 0s 2ms/step - loss: 0.2772 - accuracy: 0.8493 - val_loss: 0.2863 - val_accuracy: 0.8402\n",
      "Epoch 77/100\n",
      "32/32 [==============================] - 0s 2ms/step - loss: 0.2630 - accuracy: 0.8686 - val_loss: 0.2824 - val_accuracy: 0.8402\n",
      "Epoch 78/100\n",
      "32/32 [==============================] - 0s 3ms/step - loss: 0.2698 - accuracy: 0.8428 - val_loss: 0.2787 - val_accuracy: 0.8493\n",
      "Epoch 79/100\n",
      "32/32 [==============================] - 0s 3ms/step - loss: 0.2639 - accuracy: 0.8382 - val_loss: 0.2751 - val_accuracy: 0.8447\n",
      "Epoch 80/100\n",
      "32/32 [==============================] - 0s 3ms/step - loss: 0.2612 - accuracy: 0.8561 - val_loss: 0.2715 - val_accuracy: 0.8493\n",
      "Epoch 81/100\n",
      "32/32 [==============================] - 0s 2ms/step - loss: 0.2651 - accuracy: 0.8367 - val_loss: 0.2681 - val_accuracy: 0.8493\n",
      "Epoch 82/100\n",
      "32/32 [==============================] - 0s 3ms/step - loss: 0.2497 - accuracy: 0.8498 - val_loss: 0.2649 - val_accuracy: 0.8493\n",
      "Epoch 83/100\n",
      "32/32 [==============================] - 0s 3ms/step - loss: 0.2483 - accuracy: 0.8527 - val_loss: 0.2616 - val_accuracy: 0.8493\n",
      "Epoch 84/100\n",
      "32/32 [==============================] - 0s 3ms/step - loss: 0.2418 - accuracy: 0.8525 - val_loss: 0.2585 - val_accuracy: 0.8493\n",
      "Epoch 85/100\n",
      "32/32 [==============================] - 0s 3ms/step - loss: 0.2433 - accuracy: 0.8447 - val_loss: 0.2555 - val_accuracy: 0.8493\n",
      "Epoch 86/100\n",
      "32/32 [==============================] - 0s 3ms/step - loss: 0.2489 - accuracy: 0.8409 - val_loss: 0.2526 - val_accuracy: 0.8493\n",
      "Epoch 87/100\n",
      "32/32 [==============================] - 0s 3ms/step - loss: 0.2317 - accuracy: 0.8648 - val_loss: 0.2498 - val_accuracy: 0.8493\n",
      "Epoch 88/100\n",
      "32/32 [==============================] - 0s 3ms/step - loss: 0.2301 - accuracy: 0.8527 - val_loss: 0.2471 - val_accuracy: 0.8584\n",
      "Epoch 89/100\n",
      "32/32 [==============================] - 0s 2ms/step - loss: 0.2313 - accuracy: 0.8553 - val_loss: 0.2445 - val_accuracy: 0.8630\n",
      "Epoch 90/100\n",
      "32/32 [==============================] - 0s 2ms/step - loss: 0.2213 - accuracy: 0.8640 - val_loss: 0.2420 - val_accuracy: 0.8630\n",
      "Epoch 91/100\n",
      "32/32 [==============================] - 0s 3ms/step - loss: 0.2347 - accuracy: 0.8457 - val_loss: 0.2396 - val_accuracy: 0.8630\n",
      "Epoch 92/100\n",
      "32/32 [==============================] - 0s 3ms/step - loss: 0.2219 - accuracy: 0.8582 - val_loss: 0.2373 - val_accuracy: 0.8630\n",
      "Epoch 93/100\n",
      "32/32 [==============================] - 0s 3ms/step - loss: 0.2179 - accuracy: 0.8680 - val_loss: 0.2350 - val_accuracy: 0.8630\n",
      "Epoch 94/100\n",
      "32/32 [==============================] - 0s 3ms/step - loss: 0.2199 - accuracy: 0.8541 - val_loss: 0.2328 - val_accuracy: 0.8630\n",
      "Epoch 95/100\n",
      "32/32 [==============================] - 0s 3ms/step - loss: 0.2142 - accuracy: 0.8528 - val_loss: 0.2307 - val_accuracy: 0.8630\n",
      "Epoch 96/100\n",
      "32/32 [==============================] - 0s 3ms/step - loss: 0.2125 - accuracy: 0.8504 - val_loss: 0.2287 - val_accuracy: 0.8584\n",
      "Epoch 97/100\n",
      "32/32 [==============================] - 0s 3ms/step - loss: 0.2073 - accuracy: 0.8624 - val_loss: 0.2267 - val_accuracy: 0.8584\n",
      "Epoch 98/100\n",
      "32/32 [==============================] - 0s 3ms/step - loss: 0.1976 - accuracy: 0.8688 - val_loss: 0.2248 - val_accuracy: 0.8584\n",
      "Epoch 99/100\n",
      "32/32 [==============================] - 0s 2ms/step - loss: 0.2111 - accuracy: 0.8494 - val_loss: 0.2229 - val_accuracy: 0.8584\n",
      "Epoch 100/100\n",
      "32/32 [==============================] - 0s 3ms/step - loss: 0.2121 - accuracy: 0.8514 - val_loss: 0.2213 - val_accuracy: 0.8676\n"
     ]
    }
   ],
   "source": [
    "# training the model on the data\n",
    "hist_mae = model_mae.fit(X_train, Y_train, # X_train and Y_train are the data it's being trained on\n",
    "          batch_size=32, epochs=100, # batch_size - size of the mini-batch, epochs is how long you're training for\n",
    "          validation_data=(X_val, Y_val)) # specifying validation data"
   ]
  },
  {
   "cell_type": "code",
   "execution_count": 15,
   "metadata": {},
   "outputs": [
    {
     "name": "stdout",
     "output_type": "stream",
     "text": [
      "7/7 [==============================] - 0s 1ms/step - loss: 0.2017 - accuracy: 0.8995\n"
     ]
    },
    {
     "data": {
      "text/plain": [
       "0.8995434045791626"
      ]
     },
     "execution_count": 15,
     "metadata": {},
     "output_type": "execute_result"
    }
   ],
   "source": [
    "model_mae.evaluate(X_test, Y_test)[1] # Needs [1] becase the function returns the loss as the first eleemnt and accuracy as the second\n",
    "    # to only get the accuracy, access the second element through [1]"
   ]
  },
  {
   "cell_type": "code",
   "execution_count": 16,
   "metadata": {},
   "outputs": [
    {
     "data": {
      "image/png": "[encoded data removed]",
      "text/plain": [
       "<Figure size 432x288 with 1 Axes>"
      ]
     },
     "metadata": {
      "needs_background": "light"
     },
     "output_type": "display_data"
    },
    {
     "data": {
      "image/png": "[encoded data removed]",
      "text/plain": [
       "<Figure size 432x288 with 1 Axes>"
      ]
     },
     "metadata": {
      "needs_background": "light"
     },
     "output_type": "display_data"
    }
   ],
   "source": [
    "import matplotlib.pyplot as plt\n",
    "\n",
    "# to visualize the training loss and validation loss\n",
    "plt.plot(hist_mae.history['loss']) # specifies you want to plot loss\n",
    "plt.plot(hist_mae.history['val_loss']) # specifies you want to plot val_loss\n",
    "plt.title('Model loss') # specifies totile of the graph\n",
    "plt.ylabel('Loss') # specifies x axis is Loss\n",
    "plt.xlabel('Epoch') # specifies y axis is Epoch\n",
    "plt.legend(['Train', 'Val'], loc='upper right') # creates legend for graph in the upper right\n",
    "plt.show() # display the graph\n",
    "\n",
    "# to visualize the training accuracy and validation accuracy\n",
    "plt.plot(hist_mae.history['accuracy'])\n",
    "plt.plot(hist_mae.history['val_accuracy'])\n",
    "plt.title('Model accuracy')\n",
    "plt.ylabel('Accuracy')\n",
    "plt.xlabel('Epoch')\n",
    "plt.legend(['Train', 'Val'], loc='lower right')\n",
    "plt.show()"
   ]
  }
 ],
 "metadata": {
  "kernelspec": {
   "display_name": "Python 3",
   "language": "python",
   "name": "python3"
  },
  "language_info": {
   "codemirror_mode": {
    "name": "ipython",
    "version": 3
   },
   "file_extension": ".py",
   "mimetype": "text/x-python",
   "name": "python",
   "nbconvert_exporter": "python",
   "pygments_lexer": "ipython3",
   "version": "3.8.5"
  }
 },
 "nbformat": 4,
 "nbformat_minor": 4
}
