{
 "cells": [
  {
   "cell_type": "code",
   "execution_count": 14,
   "metadata": {},
   "outputs": [],
   "source": [
    "import numpy as np # linear algebra\n",
    "import pandas as pd # data processing, CSV file I/O (e.g. pd.read_csv)\n",
    "import os\n",
    "for dirname, _, filenames in os.walk('/kaggle/input'):\n",
    "    for filename in filenames:\n",
    "        print(os.path.join(dirname, filename))"
   ]
  },
  {
   "cell_type": "code",
   "execution_count": 15,
   "metadata": {},
   "outputs": [],
   "source": [
    "import matplotlib.pyplot as plt\n",
    "import numpy as np\n",
    "import pandas as pd\n",
    "from nltk.corpus import stopwords\n",
    "from sklearn.model_selection import train_test_split\n",
    "\n",
    "import tensorflow as tf\n",
    "from tensorflow.keras.layers import Embedding, GRU, Dense, LSTM\n",
    "from sklearn.metrics import accuracy_score# Loading the dataset"
   ]
  },
  {
   "cell_type": "code",
   "execution_count": 16,
   "metadata": {},
   "outputs": [
    {
     "name": "stdout",
     "output_type": "stream",
     "text": [
      "(21367,) (5342,) (21367,) (5342,)\n"
     ]
    },
    {
     "data": {
      "text/plain": [
       "8221     police fatally shoot black man in san diego su...\n",
       "18232    ferguson protesters chain mall doors shut in s...\n",
       "13826    ambitious social media startup has long-term 3...\n",
       "21272    ice cube that man couldn't pry from tray lives...\n",
       "3965     poll: ted cruz currently leads among voters di...\n",
       "Name: headline, dtype: object"
      ]
     },
     "execution_count": 16,
     "metadata": {},
     "output_type": "execute_result"
    }
   ],
   "source": [
    "df1 = pd.read_json('Sarcasm_Headlines_Dataset.json', lines=True)\n",
    "y_data = df.is_sarcastic.values\n",
    "titles = df.headline.values\n",
    "df1.head()\n",
    "\n",
    "df2 = df1.drop(columns=['article_link'])\n",
    "\n",
    "x_train, x_test, y_train, y_test = train_test_split(df2['headline'], df2['is_sarcastic'], test_size=0.2, stratify=df2['is_sarcastic'], random_state=1337)\n",
    "print(x_train.shape, x_test.shape, y_train.shape, y_test.shape)\n",
    "x_train.head()"
   ]
  },
  {
   "cell_type": "code",
   "execution_count": null,
   "metadata": {},
   "outputs": [],
   "source": []
  }
 ],
 "metadata": {
  "kernelspec": {
   "display_name": "Python 3",
   "language": "python",
   "name": "python3"
  },
  "language_info": {
   "codemirror_mode": {
    "name": "ipython",
    "version": 3
   },
   "file_extension": ".py",
   "mimetype": "text/x-python",
   "name": "python",
   "nbconvert_exporter": "python",
   "pygments_lexer": "ipython3",
   "version": "3.8.5"
  }
 },
 "nbformat": 4,
 "nbformat_minor": 4
}
